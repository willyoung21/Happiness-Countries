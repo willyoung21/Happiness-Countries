{
 "cells": [
  {
   "cell_type": "code",
   "execution_count": 6,
   "metadata": {},
   "outputs": [
    {
     "name": "stdout",
     "output_type": "stream",
     "text": [
      "Mean Squared Error (MSE): 0.36670545843598357\n",
      "R-squared (R²): 0.706296235925179\n"
     ]
    }
   ],
   "source": [
    "# Importar bibliotecas\n",
    "import pandas as pd\n",
    "from sklearn.model_selection import train_test_split\n",
    "from sklearn.linear_model import LinearRegression\n",
    "from sklearn.preprocessing import StandardScaler\n",
    "from sklearn.metrics import mean_squared_error, r2_score\n",
    "\n",
    "# 1. Cargar el dataset\n",
    "data = pd.read_csv('../data/proccesed/final_happiness_data.csv')\n",
    "\n",
    "# Definir características (X) y variable objetivo (y)\n",
    "X = data[['GDP_per_Capita', 'Healthy_life_expectancy', 'Freedom', \n",
    "            'Perceptions_of_corruption', 'Generosity']]\n",
    "y = data['Happiness_Score']\n",
    "\n",
    "# Dividir los datos en conjuntos de entrenamiento y prueba\n",
    "X_train, X_test, y_train, y_test = train_test_split(X, y, test_size=0.3, random_state=42)\n",
    "\n",
    "# Escalado de características\n",
    "scaler = StandardScaler()\n",
    "X_train_scaled = scaler.fit_transform(X_train)\n",
    "X_test_scaled = scaler.transform(X_test)\n",
    "\n",
    "# Crear y entrenar el modelo usando el conjunto escalado\n",
    "model = LinearRegression()\n",
    "model.fit(X_train_scaled, y_train)\n",
    "\n",
    "# Predecir valores para el conjunto de prueba escalado\n",
    "y_pred = model.predict(X_test_scaled)\n",
    "\n",
    "# Evaluación del modelo\n",
    "mse = mean_squared_error(y_test, y_pred)\n",
    "r2 = r2_score(y_test, y_pred)\n",
    "\n",
    "print(f\"Mean Squared Error (MSE): {mse}\")\n",
    "print(f\"R-squared (R²): {r2}\")\n"
   ]
  },
  {
   "cell_type": "code",
   "execution_count": null,
   "metadata": {},
   "outputs": [
    {
     "name": "stdout",
     "output_type": "stream",
     "text": [
      "Mean Squared Error (MSE): 0.06785667973560428\n",
      "R-squared (R²): 0.945651852740431\n"
     ]
    }
   ],
   "source": [
    "# Importar bibliotecas\n",
    "import pandas as pd\n",
    "from sklearn.model_selection import train_test_split\n",
    "from sklearn.linear_model import LinearRegression\n",
    "from sklearn.preprocessing import StandardScaler, OneHotEncoder\n",
    "from sklearn.compose import ColumnTransformer\n",
    "from sklearn.pipeline import Pipeline\n",
    "from sklearn.metrics import mean_squared_error, r2_score\n",
    "\n",
    "# 1. Cargar el dataset\n",
    "data = pd.read_csv('../data/proccesed/final_happiness_data.csv')\n",
    "\n",
    "# Definir características (X) y variable objetivo (y)\n",
    "X = data[['Country', 'Region', 'GDP_per_Capita', 'Healthy_life_expectancy', 'Freedom', \n",
    "            'Perceptions_of_corruption', 'Generosity']]\n",
    "y = data['Happiness_Score']\n",
    "\n",
    "# 2. Dividir el dataset en conjunto de entrenamiento y prueba\n",
    "X_train, X_test, y_train, y_test = train_test_split(X, y, test_size=0.3, random_state=42)\n",
    "\n",
    "# 3. Crear un preprocesador para las variables categóricas y numéricas\n",
    "preprocessor = ColumnTransformer(\n",
    "    transformers=[\n",
    "        ('num', StandardScaler(), ['GDP_per_Capita', 'Healthy_life_expectancy', 'Freedom', \n",
    "                                        'Perceptions_of_corruption', 'Generosity']),\n",
    "        ('cat', OneHotEncoder(handle_unknown='ignore'), ['Country', 'Region'])  # Manejar categorías desconocidas\n",
    "    ])\n",
    "\n",
    "# 4. Crear un pipeline que incluye el preprocesamiento y el modelo\n",
    "pipeline = Pipeline(steps=[('preprocessor', preprocessor),\n",
    "                                ('model', LinearRegression())])\n",
    "\n",
    "# 5. Entrenar el modelo usando el pipeline\n",
    "pipeline.fit(X_train, y_train)\n",
    "\n",
    "# 6. Predecir valores para el conjunto de prueba\n",
    "y_pred = pipeline.predict(X_test)\n",
    "\n",
    "# 7. Evaluación del modelo\n",
    "mse = mean_squared_error(y_test, y_pred)\n",
    "r2 = r2_score(y_test, y_pred)\n",
    "\n",
    "print(f\"Mean Squared Error (MSE): {mse}\")\n",
    "print(f\"R-squared (R²): {r2}\")\n"
   ]
  },
  {
   "cell_type": "code",
   "execution_count": null,
   "metadata": {},
   "outputs": [],
   "source": [
    "import pickle\n",
    "\n",
    "# Guardar el modelo entrenado en un archivo .pkl\n",
    "with open('../models/final_happiness_model.pkl', 'wb') as file:\n",
    "    pickle.dump(pipeline, file)\n"
   ]
  },
  {
   "cell_type": "code",
   "execution_count": 14,
   "metadata": {},
   "outputs": [],
   "source": [
    "import pickle\n",
    "\n",
    "# Cargar el modelo desde el archivo PKL\n",
    "with open('../models/final_happiness_model.pkl', 'rb') as file:\n",
    "    pipeline = pickle.load(file)\n",
    "\n",
    "# Realizar predicciones en el conjunto de prueba\n",
    "y_pred_test = pipeline.predict(X_test)\n",
    "\n",
    "# Crear un DataFrame con las características, predicciones y valores reales\n",
    "test_results = X_test.copy()\n",
    "test_results['Predicted_Happiness_Score'] = y_pred_test\n",
    "test_results['Actual_Happiness_Score'] = y_test.values\n",
    "\n",
    "# Guardar el DataFrame con los resultados para enviarlo a Kafka\n",
    "test_results.to_csv('../data/test_results.csv', index=False)\n"
   ]
  }
 ],
 "metadata": {
  "kernelspec": {
   "display_name": "venv",
   "language": "python",
   "name": "python3"
  },
  "language_info": {
   "codemirror_mode": {
    "name": "ipython",
    "version": 3
   },
   "file_extension": ".py",
   "mimetype": "text/x-python",
   "name": "python",
   "nbconvert_exporter": "python",
   "pygments_lexer": "ipython3",
   "version": "3.11.5"
  }
 },
 "nbformat": 4,
 "nbformat_minor": 2
}
